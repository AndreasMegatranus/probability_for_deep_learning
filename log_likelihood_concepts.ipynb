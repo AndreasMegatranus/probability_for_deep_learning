{
 "cells": [
  {
   "cell_type": "markdown",
   "metadata": {},
   "source": [
    "# Introduction\n",
    "\n",
    "The concepts of likelihood, log likelihood, and maximizing log likelihood are important foundations for algorithms used in generative AI, which is a branch of deep learning.\n",
    "\n",
    "See, also\n",
    "\n",
    "\n",
    "https://www.statlect.com/glossary/log-likelihood\n",
    "\n",
    "\n",
    "https://github.com/jonkrohn/ML-foundations/blob/master/notebooks/5-probability.ipynb\n",
    "\n",
    "\n",
    "Overall,\n",
    "https://github.com/jonkrohn/ML-foundations/tree/master\n",
    "is an excellent resource\n",
    "\n",
    "\n",
    "These foundation concepts are important for understanding:\n",
    "https://yang-song.net/blog/2021/score/"
   ]
  },
  {
   "cell_type": "code",
   "execution_count": null,
   "metadata": {},
   "outputs": [],
   "source": [
    "import numpy as np\n",
    "import scipy.stats as st\n",
    "import matplotlib.pyplot as plt\n",
    "import seaborn as sns\n"
   ]
  },
  {
   "cell_type": "code",
   "execution_count": null,
   "metadata": {},
   "outputs": [],
   "source": [
    "%%javascript\n",
    "MathJax.Hub.Config({\n",
    "    TeX: { equationNumbers: { autoNumber: \"AMS\" } }\n",
    "});\n",
    "\n",
    "# This doesn't seem to fix equation numbering."
   ]
  },
  {
   "cell_type": "code",
   "execution_count": null,
   "metadata": {},
   "outputs": [],
   "source": [
    "%%javascript\n",
    "MathJax.Hub.Queue(\n",
    "  [\"resetEquationNumbers\", MathJax.InputJax.TeX],\n",
    "  [\"PreProcess\", MathJax.Hub],\n",
    "  [\"Reprocess\", MathJax.Hub]\n",
    ");"
   ]
  },
  {
   "cell_type": "code",
   "execution_count": 18,
   "metadata": {},
   "outputs": [],
   "source": [
    "def gaussian(mu, sigma, range, res):\n",
    "    x = np.array([])\n",
    "    y = np.array([])\n",
    "    for x1 in np.arange(mu - range/2, mu + range/2, res):\n",
    "        y_for_x = 1/(sigma * np.sqrt(2 * np.pi)) * np.exp( - (x1 - mu)**2 / (2 * sigma**2) )\n",
    "        x = np.append(x, x1)\n",
    "        y = np.append(y, y_for_x)\n",
    "\n",
    "    return x, y\n",
    "\n",
    "def log_of_gaussian(mu, sigma, range, res):\n",
    "    x = np.array([])\n",
    "    y = np.array([])\n",
    "    for x1 in np.arange(mu - range/2, mu + range/2, res):\n",
    "\n",
    "        y_for_x = -np.log(sigma) - 0.5 * np.log(2 * np.pi) - (x1 - mu)**2 / (2 * sigma**2)\n",
    "\n",
    "        x = np.append(x, x1)\n",
    "        y = np.append(y, y_for_x)\n",
    "\n",
    "    return x, y\n",
    "\n"
   ]
  },
  {
   "cell_type": "markdown",
   "metadata": {},
   "source": [
    "# Likelihood\n",
    "\n",
    "Let $\\xi$ be a sample of observed data consisting of a set of datapoints:  \n",
    "\n",
    "$$\n",
    "\\begin{equation}\n",
    "\n",
    "\\xi = [x_1, x_2 ... x_n]\n",
    "\n",
    "\\end{equation}\n",
    "$$\n",
    "\n",
    "Let $p(x_i)$ be a probability distribution for a datapoint, $x_i$, in $\\xi$.\n",
    "In ML models, such distributions are parameterized according to a parameter vector, $\\theta$, so the distribution is written as $p(\\theta, x_i)$.\n",
    "\n",
    "The likelihood, $L(\\theta, \\xi)$ is the joint probability of all the datapoints in the sample:\n",
    "\n",
    "$$\n",
    "\\begin{equation}\n",
    "\n",
    "L(\\theta, \\xi) = \\prod_{i = 1}^{n} p(\\theta, x_i)\n",
    "\n",
    "\\end{equation}\n",
    "$$\n",
    "\n",
    "The log likelihood is then\n",
    "\n",
    "$$\n",
    "\\begin{equation}\n",
    "\n",
    "\\ln L(\\theta, \\xi) = \\ln \\prod_{i = 1}^{n} p(\\theta, x_i) = \\sum_{i = 1}^{n} \\ln p(\\theta, x_i)\n",
    "\n",
    "\\end{equation}\n",
    "$$\n",
    "\n",
    "\n",
    "The log likelihood function is typically used to compute the \\textit{maximum likelihood estimator} for a sample.  This is the value of $\\theta$ that maximizes the log likelihood:\n",
    "\n",
    "$$\n",
    "\\begin{equation}\n",
    "\n",
    "\\hat{\\theta} = \\argmax_{\\theta} \\ln L(\\theta, \\xi)\n",
    "\n",
    "\\end{equation}\n",
    "$$\n",
    "\n",
    "The log frequently used in maximum likelihood computations because it converts the product of distributions into a sum.  This is convenient for two reasons:  1) the asymptotic properties of sums are easier to analyze; and 2) sums are more numerically stable.\n",
    "\n",
    "Consider, for example, the case where $p(\\theta, x_i)$ is Gaussian (normal):\n",
    "\n",
    "$$\n",
    "\\begin{equation}\n",
    "\n",
    "p(\\theta, x_i) = \\left( 2 \\pi \\sigma^2 \\right) ^ {-1/2} \\exp \\left( - \\frac{1}{2} \\frac{\\left(x_i - \\mu \\right)^2}{\\sigma^2} \\right)\n",
    "\n",
    "\\end{equation}\n",
    "$$\n",
    "\n",
    "In this case, $\\theta = \\left[ \\mu \\quad \\sigma^2 \\right]$."
   ]
  },
  {
   "cell_type": "code",
   "execution_count": 16,
   "metadata": {},
   "outputs": [
    {
     "data": {
      "image/png": "[encoded data removed]",
      "text/plain": [
       "<Figure size 640x480 with 1 Axes>"
      ]
     },
     "metadata": {},
     "output_type": "display_data"
    }
   ],
   "source": [
    "x1, y1 = gaussian(0, 1.0, 10.0, 0.1)\n",
    "plt.plot(x1, y1)\n",
    "plt.xlabel(\"x\")\n",
    "plt.ylabel(\"y\")\n",
    "plt.show()"
   ]
  },
  {
   "cell_type": "markdown",
   "metadata": {},
   "source": [
    "For this distribution,\n",
    "\n",
    "$$\n",
    "\\begin{equation}\n",
    "\n",
    "\\ln p(\\theta, x_i) = \\ln \\left( \\left( 2 \\pi \\sigma^2 \\right) ^ {-1/2} \\exp \\left( - \\frac{1}{2} \\frac{\\left(x_i - \\mu \\right)^2}{\\sigma^2} \\right) \\right) = \\ln \\left( 2 \\pi \\sigma^2 \\right) ^ {-1/2} + \\ln \\left( \\exp \\left( - \\frac{1}{2} \\frac{\\left(x_i - \\mu \\right)^2}{\\sigma^2} \\right) \\right) = - \\ln ( \\sigma ) - \\frac{1}{2} \\ln (2 \\pi) - \\frac{(x - \\mu)^2}{2 \\sigma ^2}\n",
    "\n",
    "\\end{equation}\n",
    "$$\n",
    "\n",
    "(see, also, https://stats.stackexchange.com/questions/404191/what-is-the-log-of-the-pdf-for-a-normal-distribution)"
   ]
  },
  {
   "cell_type": "code",
   "execution_count": 19,
   "metadata": {},
   "outputs": [
    {
     "data": {
      "image/png": "[encoded data removed]",
      "text/plain": [
       "<Figure size 640x480 with 1 Axes>"
      ]
     },
     "metadata": {},
     "output_type": "display_data"
    }
   ],
   "source": [
    "x1, y1 = log_of_gaussian(0, 1.0, 10.0, 0.1)\n",
    "plt.plot(x1, y1)\n",
    "plt.xlabel(\"x\")\n",
    "plt.ylabel(\"y\")\n",
    "plt.show()"
   ]
  },
  {
   "cell_type": "markdown",
   "metadata": {},
   "source": [
    "Note that this is a parabola, with it's peak (maximum point) at $\\mu$.  Therefore, if a sample $\\xi$, had only one datapoint, then the argmax operator for computing the maximum likelihood would set $\\mu$ to the value of that datapoint.  Note, also, that the gradients of the parabola are lines that point to the optimum.  Thus, a numerical algorithm for maximizing $\\mu$ that uses these derivatives would converge to the maximum. "
   ]
  },
  {
   "cell_type": "markdown",
   "metadata": {},
   "source": [
    "# Generative Modeling by Estimating Gradients of the Data Distribution\n",
    "\n",
    "See https://yang-song.net/blog/2021/score/\n",
    "\n",
    "Many generative modeling approaches, like Variational Auto Encoders, learn probability distributions via (approximate) maximum likelihood.  They then draw samples from these distributions (the generative aspect).  However, learning probability distributions directly can be challenging because the probability, $p_{\\theta}(x)$, must be normalized (it must integrate to 1).  This is often computationally difficult.  (Note that $p_{\\theta}(x)$ is the same as $p(\\theta, \\xi)$ in the above discussion).\n",
    "\n",
    "Generally, the probability is of the form\n",
    "\n",
    "$$\n",
    "\\begin{equation}\n",
    "\n",
    "p_{\\theta}(x) = \\frac{e^{-f_\\theta(x)}}{Z_\\theta}\n",
    "\n",
    "\\end{equation}\n",
    "$$\n",
    "\n",
    "Note that with this general form, a Gaussian probability distribution is represented using $ Z_\\theta = \\left( 2 \\pi \\sigma^2 \\right) $, and $ f_\\theta(x) = \\left( - \\frac{1}{2} \\frac{\\left(x_i - \\mu \\right)^2}{\\sigma^2} \\right)$, ($\\mu$ and $\\sigma$ are elements of $\\theta$).\n",
    "\n",
    "For general probability distributions (but not Gaussian ones), computing $Z_\\theta$ is often difficult.  An alternative that circumvents this problem is to model _the gradient of the log probability density function_.  This quantity is known as the (Stein) score function.  Such __score-based models__ are not required to have a tractable normalizing constant.  They can be directly learned using an approach called __score matching__.\n",
    "\n",
    "The score function is defined as $ \\nabla_x \\ln p(x) $, and the score-based model, $s_\\theta(x)$, is learned so that\n",
    "\n",
    "$$\n",
    "\\begin{equation}\n",
    "\n",
    "s_\\theta(x) \\approx \\nabla_x \\ln p(x) \n",
    "\n",
    "\\end{equation}\n",
    "$$\n",
    "\n",
    "For the above general probability distribution\n",
    "\n",
    "$$\n",
    "\\begin{equation}\n",
    "\n",
    " \\ln p_\\theta(x) = \\ln \\left( \\exp \\left( -f_\\theta(x) \\right) \\right) - \\ln \\left(  Z_\\theta \\right) = -f_\\theta(x) - \\ln \\left(  Z_\\theta \\right)\n",
    "\n",
    "\\end{equation}\n",
    "$$\n",
    "\n",
    "(the log of a fraction is the log of the numerator - the log of the denominator).  Taking the gradient yields\n",
    "\n",
    "$$\n",
    "\\begin{equation}\n",
    "\n",
    " \\nabla_x \\ln p_\\theta(x) = -\\nabla_x \\left( f_\\theta(x) \\right) - \\nabla_x \\ln \\left(  Z_\\theta \\right) = -\\nabla_x \\left( f_\\theta(x) \\right)\n",
    "\n",
    "\\end{equation}\n",
    "$$\n",
    "\n",
    "\n",
    "\n",
    "$$\n",
    "\\begin{equation}\n",
    "\n",
    " \\ln p_\\theta(x) = \\ln \\left( \\exp \\left( - \\frac{1}{2} \\frac{\\left(x_i - \\mu \\right)^2}{\\sigma^2} \\right) \\right) - \\ln \\left(  2 \\pi \\sigma^2 \\right)\n",
    "\n",
    "\\end{equation}\n",
    "$$\n",
    "\n"
   ]
  }
 ],
 "metadata": {
  "kernelspec": {
   "display_name": "Python 3",
   "language": "python",
   "name": "python3"
  },
  "language_info": {
   "codemirror_mode": {
    "name": "ipython",
    "version": 3
   },
   "file_extension": ".py",
   "mimetype": "text/x-python",
   "name": "python",
   "nbconvert_exporter": "python",
   "pygments_lexer": "ipython3",
   "version": "3.10.12"
  },
  "orig_nbformat": 4
 },
 "nbformat": 4,
 "nbformat_minor": 2
}
